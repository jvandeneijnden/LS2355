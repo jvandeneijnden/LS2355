{
 "cells": [
  {
   "cell_type": "code",
   "execution_count": 47,
   "id": "298cc75a-ff4c-42ef-9545-4a00d8a6672c",
   "metadata": {},
   "outputs": [],
   "source": [
    "import numpy as np\n",
    "from astropy.io import fits\n",
    "import astropy.units as u\n",
    "from astropy.coordinates import SkyCoord"
   ]
  },
  {
   "cell_type": "code",
   "execution_count": 89,
   "id": "70b49066-048d-4a1b-83a0-5b21201c5fa1",
   "metadata": {},
   "outputs": [],
   "source": [
    "hdul = fits.open('gll_psc_v34.fit')\n",
    "cols = hdul[1].columns"
   ]
  },
  {
   "cell_type": "code",
   "execution_count": 62,
   "id": "36db914b-9c40-4b21-bfec-a8b96ac00b1d",
   "metadata": {},
   "outputs": [],
   "source": [
    "data = hdul[1].data"
   ]
  },
  {
   "cell_type": "code",
   "execution_count": 83,
   "id": "d8156c35-0272-4c39-8d44-881764a6bb89",
   "metadata": {},
   "outputs": [],
   "source": [
    "names = data.field('Source_Name')"
   ]
  },
  {
   "cell_type": "code",
   "execution_count": 101,
   "id": "31e8dcca-45f0-47eb-8e3b-669785cb3bb4",
   "metadata": {},
   "outputs": [
    {
     "data": {
      "text/plain": [
       "('4FGL J1130.5-6236c', 3, 172.6319, -62.6098, 293.77753, -1.184932, 0.034968436, 0.030898036, 31.78, 0.0567, 0.0501, 31.78, 167, '', 5.211764, 7996.428, 4.482955e-10, 1.222242e-10, 5.062425e-12, 1.5393994e-12, 'PowerLaw', 5.833214e-15, 1.2177305e-15, 2.1634102, 0.14136453, 5.773677e-15, 1.3619293e-15, 2.1609416, 0.14279902, -0.0061105005, 0.046391655, 0.0, nan, nan, 5.2417838e-15, 1.1907334e-15, 2.2355115, 0.1190299, -0.05601219, 0.030944878, 0.6666667, nan, 0.8898993, nan, nan, 463.02515, array([4.9361393e-10, 9.4271879e-09, 3.2037271e-09, 2.9843400e-10,\n",
       "       1.0429916e-10, 1.5757640e-11, 4.4791759e-16, 5.6103191e-12],\n",
       "      dtype='>f4'), array([[           nan,  8.3819486e-08],\n",
       "       [           nan,  1.7108459e-08],\n",
       "       [-1.6667115e-09,  1.6850540e-09],\n",
       "       [-1.4339477e-10,  1.4792846e-10],\n",
       "       [-3.1168314e-11,  3.2409044e-11],\n",
       "       [-8.0097222e-12,  9.4654588e-12],\n",
       "       [           nan,  3.0715987e-12],\n",
       "       [-2.7202591e-12,  3.7396418e-12]], dtype='>f4'), array([7.8566012e-14, 2.2293009e-12, 2.1578167e-12, 7.0572400e-13,\n",
       "       7.0248944e-13, 3.7262991e-13, 3.0168736e-17, 9.3560825e-13],\n",
       "      dtype='>f4'), array([0.        , 0.11778917, 1.9246782 , 2.1140428 , 3.7918236 ,\n",
       "       2.370465  , 0.        , 3.4638238 ], dtype='>f4'), 12.168812, 0.0, 10.0, -inf, -inf, -inf, -inf, -inf, array([1.2192268e-09, 9.2607074e-13, 2.5163654e-10, 1.0334315e-08,\n",
       "       4.3513881e-09, 1.0542062e-08, 7.1743633e-10, 1.1087972e-08,\n",
       "       3.7584848e-11, 9.7266368e-13, 9.3386632e-10, 4.8742672e-09,\n",
       "       8.1639682e-09, 7.6268112e-09], dtype='>f4'), array([[           nan,  6.3988383e-09],\n",
       "       [           nan,  4.8512634e-09],\n",
       "       [           nan,  5.6267528e-09],\n",
       "       [-5.3898410e-09,  6.0667240e-09],\n",
       "       [           nan,  6.4559669e-09],\n",
       "       [-5.4301017e-09,  6.1612346e-09],\n",
       "       [           nan,  6.2372076e-09],\n",
       "       [-4.2274668e-09,  4.9296149e-09],\n",
       "       [           nan,  6.2292655e-09],\n",
       "       [           nan,  4.6510462e-09],\n",
       "       [           nan,  5.1874665e-09],\n",
       "       [-4.4713850e-09,  5.4660365e-09],\n",
       "       [-4.2437396e-09,  5.0900648e-09],\n",
       "       [-5.0224629e-09,  5.6571858e-09]], dtype='>f4'), array([0.2152005 , 0.        , 0.05599679, 2.074185  , 0.74437106,\n",
       "       2.0839071 , 0.10822268, 3.5621388 , 0.        , 0.        ,\n",
       "       0.22048193, 1.0974988 , 2.2304733 , 1.586356  ], dtype='>f4'), '4FGL J1130.5-6236c', '3FGL J1128.7-6232', '', '', '', '', 'N', '', '', '', '', '', 0.0, 0.0, nan, nan, nan, 32)"
      ]
     },
     "execution_count": 101,
     "metadata": {},
     "output_type": "execute_result"
    }
   ],
   "source": [
    "for i in range(len(names)):\n",
    "    if '4FGL J1130.5-6236c' in names[i]:\n",
    "        index = i\n",
    "data[index]"
   ]
  },
  {
   "cell_type": "code",
   "execution_count": 98,
   "id": "8d713b8e-95cd-4a7c-bb4a-af7b315b67c2",
   "metadata": {},
   "outputs": [
    {
     "name": "stdout",
     "output_type": "stream",
     "text": [
      "name:\n",
      "    ['Source_Name', 'DataRelease', 'RAJ2000', 'DEJ2000', 'GLON', 'GLAT', 'Conf_68_SemiMajor', 'Conf_68_SemiMinor', 'Conf_68_PosAng', 'Conf_95_SemiMajor', 'Conf_95_SemiMinor', 'Conf_95_PosAng', 'ROI_num', 'Extended_Source_Name', 'Signif_Avg', 'Pivot_Energy', 'Flux1000', 'Unc_Flux1000', 'Energy_Flux100', 'Unc_Energy_Flux100', 'SpectrumType', 'PL_Flux_Density', 'Unc_PL_Flux_Density', 'PL_Index', 'Unc_PL_Index', 'LP_Flux_Density', 'Unc_LP_Flux_Density', 'LP_Index', 'Unc_LP_Index', 'LP_beta', 'Unc_LP_beta', 'LP_SigCurv', 'LP_EPeak', 'Unc_LP_EPeak', 'PLEC_Flux_Density', 'Unc_PLEC_Flux_Density', 'PLEC_IndexS', 'Unc_PLEC_IndexS', 'PLEC_ExpfactorS', 'Unc_PLEC_ExpfactorS', 'PLEC_Exp_Index', 'Unc_PLEC_Exp_Index', 'PLEC_SigCurv', 'PLEC_EPeak', 'Unc_PLEC_EPeak', 'Npred', 'Flux_Band', 'Unc_Flux_Band', 'nuFnu_Band', 'Sqrt_TS_Band', 'Variability_Index', 'Frac_Variability', 'Unc_Frac_Variability', 'Signif_Peak', 'Flux_Peak', 'Unc_Flux_Peak', 'Time_Peak', 'Peak_Interval', 'Flux_History', 'Unc_Flux_History', 'Sqrt_TS_History', 'ASSOC_4FGL', 'ASSOC_FGL', 'ASSOC_FHL', 'ASSOC_GAM1', 'ASSOC_GAM2', 'ASSOC_GAM3', 'TEVCAT_FLAG', 'ASSOC_TEV', 'CLASS1', 'CLASS2', 'ASSOC1', 'ASSOC2', 'ASSOC_PROB_BAY', 'ASSOC_PROB_LR', 'RA_Counterpart', 'DEC_Counterpart', 'Unc_Counterpart', 'Flags']\n"
     ]
    }
   ],
   "source": [
    "cols.info('name')"
   ]
  },
  {
   "cell_type": "code",
   "execution_count": 100,
   "id": "a4a89d65-967d-4a93-bde6-33c4c06f0c38",
   "metadata": {},
   "outputs": [
    {
     "name": "stdout",
     "output_type": "stream",
     "text": [
      "[7.8566012e-14 2.2293009e-12 2.1578167e-12 7.0572400e-13 7.0248944e-13\n",
      " 3.7262991e-13 3.0168736e-17 9.3560825e-13]\n",
      "[0.         0.11778917 1.9246782  2.1140428  3.7918236  2.370465\n",
      " 0.         3.4638238 ]\n"
     ]
    }
   ],
   "source": [
    "print(data[index]['nuFnu_Band'])\n",
    "print(data[index]['Sqrt_TS_Band'])"
   ]
  },
  {
   "cell_type": "code",
   "execution_count": 102,
   "id": "9eb958b4-c553-4fa8-8ab8-c6cb8b5716a7",
   "metadata": {},
   "outputs": [
    {
     "name": "stdout",
     "output_type": "stream",
     "text": [
      "5.833214e-15\n",
      "1.2177305e-15\n"
     ]
    }
   ],
   "source": [
    "print(data[index]['PL_Flux_Density'])\n",
    "print(data[index]['Unc_PL_Flux_Density'])"
   ]
  },
  {
   "cell_type": "code",
   "execution_count": 104,
   "id": "e2033f3f-e0ef-42c2-9c36-7c6ea3cb3749",
   "metadata": {},
   "outputs": [
    {
     "name": "stdout",
     "output_type": "stream",
     "text": [
      "2.1634102\n",
      "0.14136453\n"
     ]
    }
   ],
   "source": [
    "print(data[index]['PL_Index'])\n",
    "print(data[index]['Unc_PL_Index'])"
   ]
  },
  {
   "cell_type": "code",
   "execution_count": null,
   "id": "2c20e82a-e04d-48ea-a056-f7dbaac55819",
   "metadata": {},
   "outputs": [],
   "source": []
  }
 ],
 "metadata": {
  "kernelspec": {
   "display_name": "Python 3 (ipykernel)",
   "language": "python",
   "name": "python3"
  },
  "language_info": {
   "codemirror_mode": {
    "name": "ipython",
    "version": 3
   },
   "file_extension": ".py",
   "mimetype": "text/x-python",
   "name": "python",
   "nbconvert_exporter": "python",
   "pygments_lexer": "ipython3",
   "version": "3.11.5"
  }
 },
 "nbformat": 4,
 "nbformat_minor": 5
}
