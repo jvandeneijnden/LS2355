{
 "cells": [
  {
   "cell_type": "markdown",
   "id": "eb21ccbe-75e0-4c6b-9c58-3a3b87d85f48",
   "metadata": {},
   "source": [
    "# Notebook #1: ASTROMETRY."
   ]
  },
  {
   "cell_type": "markdown",
   "id": "4d24f9df-77b5-41f8-8685-551d78eb32a9",
   "metadata": {},
   "source": [
    "This notebook reproduces the astrometrical analysis based on Gaia data in order to determine the local movement and space velocity of LS 2355 compared to its surroundings.\n",
    "\n",
    "We take the following steps:\n",
    "\n",
    "0) import the necessary packages\n",
    "1) define the local ISM motion correction\n",
    "2) show an example calculation using pre-Gaia constraints\n",
    "3) perform the Gaia-based calculation #1: Oort constants from Comeron & Pasquali (2007) and no radial motion\n",
    "4) perform the Gaia-based calculation #2: Updated Oort constants based on Gaia and including radial motion\n",
    "\n",
    "From step 4, we find the values used in further plotting and calculations; the results from step 3 are also mentioned in the main text of Section 3.3.\n",
    "\n",
    "The most revelant values taken from step 4 are:\n",
    "\n",
    "$\\theta = 35 \\pm 10\\degree$ West of North\n",
    "\n",
    "$v_* = 7.0 \\pm 2.5$ km/s\n",
    "\n",
    "Note that, as mentioned below, the exact re-estimated values may differ slightly within these uncertainties, but that does not affect the work and conclusions in the paper."
   ]
  },
  {
   "cell_type": "markdown",
   "id": "0c11d574-a5a1-41d5-a7cc-2f5b6f28fd38",
   "metadata": {},
   "source": [
    "### 0) import the necessary packages"
   ]
  },
  {
   "cell_type": "code",
   "execution_count": 1,
   "id": "3ef6fdac",
   "metadata": {},
   "outputs": [],
   "source": [
    "import numpy as np\n",
    "from astropy.coordinates import ICRS, Galactic, SkyCoord, LSR\n",
    "import astropy.units as u"
   ]
  },
  {
   "cell_type": "markdown",
   "id": "4c03a24f-5cd1-41b5-abf9-7f308b02d3bb",
   "metadata": {},
   "source": [
    "### 1) Local ISM motion correction"
   ]
  },
  {
   "cell_type": "markdown",
   "id": "6f3970c1",
   "metadata": {},
   "source": [
    "The below function calculates the local motion at a given set of Galactic coordinates and distance, given the assumed Oort's constants and solar values $(U,V,W)_0$. This function is based on Comeron & Pasquali (2007), who refer to Scheffler & Elsasser (1987).\n",
    "\n",
    "The standard values of $(U,V,W)_0$ are taken from Schonrich et al. (2010)"
   ]
  },
  {
   "cell_type": "code",
   "execution_count": 2,
   "id": "21b0f7da",
   "metadata": {},
   "outputs": [],
   "source": [
    "def local_motion(l, b, D, \n",
    "                 A = 12.5*u.km/u.s/u.kpc, B = -12.5*u.km/u.s/u.kpc, \n",
    "                 U = 11.1*u.km/u.s, V = 12.24*u.km/u.s, W = 7.25*u.km/u.s):\n",
    "\n",
    "    C = 0.211 * u.mas / u.yr / (u.km / u.s / u.kpc)\n",
    "    \n",
    "    pm_l_cosb_0 = C*(A*np.cos(2.*l)*np.cos(b) + B*np.cos(b) \n",
    "                         + (U/D)*np.sin(l) - (V/D)*np.cos(l))\n",
    "    pm_b_0 = C*(-1*A*np.sin(2.*l)*np.sin(b)*np.cos(b) \n",
    "                    + (U/D)*np.cos(l)*np.sin(b) + (V/D)*np.sin(l)*np.sin(b)\n",
    "                    - (W/D)*np.cos(b))\n",
    "    \n",
    "    return (pm_l_cosb_0.to(u.mas / u.yr), pm_b_0.to(u.mas / u.yr))"
   ]
  },
  {
   "cell_type": "markdown",
   "id": "cf128e43-fce9-43db-ab7c-f3496c8a8d82",
   "metadata": {},
   "source": [
    "### 2) The example calculation using pre-Gaia constraints"
   ]
  },
  {
   "cell_type": "markdown",
   "id": "84d42d96-abac-43ad-aa2d-260981ce7d95",
   "metadata": {},
   "source": [
    "To demonstrate the calculation, we can first perform it using the parameters of LS 2355 as introduced in Sanchez Ayaso et al. (2018)"
   ]
  },
  {
   "cell_type": "code",
   "execution_count": 3,
   "id": "cfed84b1",
   "metadata": {},
   "outputs": [],
   "source": [
    "D_LS2355 = 2.1 * u.kpc # The pre-Gaia best distance; different from the paper value"
   ]
  },
  {
   "cell_type": "code",
   "execution_count": 4,
   "id": "31fdd0b0",
   "metadata": {},
   "outputs": [
    {
     "data": {
      "text/plain": [
       "<Galactic Coordinate: (l, b) in deg\n",
       "    (293.61336075, -1.28375861)\n",
       " (pm_l_cosb, pm_b) in mas / yr\n",
       "    (-8.50422629, 0.87643324)>"
      ]
     },
     "execution_count": 4,
     "metadata": {},
     "output_type": "execute_result"
    }
   ],
   "source": [
    "# Transforming the proper motion from Sanchez Ayaso et al. (2018) from ICRS to Galactic coordinates:\n",
    "LS2355_2018 = ICRS(ra=172.225759*u.degree, dec=-62.652733*u.degree,\n",
    "                   pm_ra_cosdec=-7.8*u.mas/u.yr, pm_dec=3.5*u.mas/u.yr)\n",
    "LS2355_2018_Gal = LS2355_2018.transform_to(Galactic()) \n",
    "LS2355_2018_Gal"
   ]
  },
  {
   "cell_type": "code",
   "execution_count": 5,
   "id": "9f25bf1a",
   "metadata": {},
   "outputs": [],
   "source": [
    "# Calculating the local motion at the position and distance of LS 2355:\n",
    "(pm_l_cosb_0, pm_b_0) = local_motion(l = LS2355_2018_Gal.l.degree*u.degree, b = LS2355_2018_Gal.b.degree*u.degree,\n",
    "                                     D = D_LS2355)"
   ]
  },
  {
   "cell_type": "code",
   "execution_count": 7,
   "id": "22063100",
   "metadata": {},
   "outputs": [
    {
     "data": {
      "text/plain": [
       "<ICRS Coordinate: (ra, dec) in deg\n",
       "    (172.225759, -62.652733)\n",
       " (pm_ra_cosdec, pm_dec) in mas / yr\n",
       "    (-1.92062662, 2.35417436)>"
      ]
     },
     "execution_count": 7,
     "metadata": {},
     "output_type": "execute_result"
    }
   ],
   "source": [
    "# Defining a new astropy object with the same Galactic position but the corrected Galactic motion:\n",
    "LS2355_corrected = Galactic(l=LS2355_2018_Gal.l.degree*u.degree, b=LS2355_2018_Gal.b.degree*u.degree,\n",
    "                   pm_l_cosb=LS2355_2018_Gal.pm_l_cosb - pm_l_cosb_0, pm_b=LS2355_2018_Gal.pm_b - pm_b_0)\n",
    "\n",
    "# Converting to ICRS:\n",
    "LS2355_corrected_ICRS = LS2355_corrected.transform_to(ICRS()) \n",
    "LS2355_corrected_ICRS"
   ]
  },
  {
   "cell_type": "code",
   "execution_count": 8,
   "id": "3c0583bb",
   "metadata": {},
   "outputs": [
    {
     "data": {
      "text/latex": [
       "$-39.208898 \\; \\mathrm{{}^{\\circ}}$"
      ],
      "text/plain": [
       "<Quantity -39.20889793 deg>"
      ]
     },
     "execution_count": 8,
     "metadata": {},
     "output_type": "execute_result"
    }
   ],
   "source": [
    "# Calculating the angle\n",
    "theta = np.arctan(LS2355_corrected_ICRS.pm_ra_cosdec / LS2355_corrected_ICRS.pm_dec)\n",
    "theta.to(u.degree)"
   ]
  },
  {
   "cell_type": "code",
   "execution_count": 9,
   "id": "1a7acdca",
   "metadata": {},
   "outputs": [
    {
     "data": {
      "text/latex": [
       "$30.24571 \\; \\mathrm{\\frac{km}{s}}$"
      ],
      "text/plain": [
       "<Quantity 30.24571021 km / s>"
      ]
     },
     "execution_count": 9,
     "metadata": {},
     "output_type": "execute_result"
    }
   ],
   "source": [
    "# Calculating the velocity:\n",
    "((((LS2355_corrected_ICRS.pm_ra_cosdec / (1.*u.radian)) * D_LS2355)**2 +\n",
    "((LS2355_corrected_ICRS.pm_dec / (1.*u.radian)) * D_LS2355)**2)**0.5).to(u.km/u.second)"
   ]
  },
  {
   "cell_type": "markdown",
   "id": "953cb243",
   "metadata": {},
   "source": [
    "### 3) The Gaia-based calculation #1: Oort constants from Comeron & Pasquali (2007) and no radial motion"
   ]
  },
  {
   "cell_type": "markdown",
   "id": "938add94-4200-4556-9fc1-de1f258ecd0d",
   "metadata": {},
   "source": [
    "We then demonstrate the calculation using the Gaia constraints; we here do not yet include radial motion or updated Oort constants (based on Gaia). We will include both in step 4.\n",
    "\n",
    "However, we will explicitly introduce uncertainties in the calculation after first repeating the steps from part 2."
   ]
  },
  {
   "cell_type": "code",
   "execution_count": 16,
   "id": "54e6194d",
   "metadata": {},
   "outputs": [],
   "source": [
    "D_LS2355 = 2.2 * u.kpc # The Gaia-based distance"
   ]
  },
  {
   "cell_type": "code",
   "execution_count": 17,
   "id": "fd853388",
   "metadata": {},
   "outputs": [
    {
     "data": {
      "text/plain": [
       "<Galactic Coordinate: (l, b) in deg\n",
       "    (293.61336075, -1.28375861)\n",
       " (pm_l_cosb, pm_b) in mas / yr\n",
       "    (-6.61208326, -0.4173008)>"
      ]
     },
     "execution_count": 17,
     "metadata": {},
     "output_type": "execute_result"
    }
   ],
   "source": [
    "# Converting the Galactic coordinates, with the Gaia proper motion:\n",
    "LS2355 = ICRS(ra=172.225759*u.degree, dec=-62.652733*u.degree,\n",
    "                   pm_ra_cosdec=-6.40922*u.mas/u.yr, pm_dec=1.678*u.mas/u.yr)\n",
    "LS2355_Gal = LS2355.transform_to(Galactic()) \n",
    "LS2355_Gal"
   ]
  },
  {
   "cell_type": "code",
   "execution_count": 18,
   "id": "fc4e7623",
   "metadata": {},
   "outputs": [],
   "source": [
    "# Calculating the local motion for the Comeron & Pasquali (2007) Oort's constants:\n",
    "(pm_l_cosb_0, pm_b_0) = local_motion(l = LS2355_Gal.l.degree*u.degree, b = LS2355_Gal.b.degree*u.degree,\n",
    "                                     D = D_LS2355)"
   ]
  },
  {
   "cell_type": "code",
   "execution_count": 19,
   "id": "18387c15",
   "metadata": {},
   "outputs": [
    {
     "data": {
      "text/plain": [
       "<ICRS Coordinate: (ra, dec) in deg\n",
       "    (172.225759, -62.652733)\n",
       " (pm_ra_cosdec, pm_dec) in mas / yr\n",
       "    (-0.60538092, 0.52299588)>"
      ]
     },
     "execution_count": 19,
     "metadata": {},
     "output_type": "execute_result"
    }
   ],
   "source": [
    "# Correcting the motion and converting back from Galactic coordinates\n",
    "LS2355_corrected = Galactic(l=LS2355_Gal.l.degree*u.degree, b=LS2355_Gal.b.degree*u.degree,\n",
    "                   pm_l_cosb=LS2355_Gal.pm_l_cosb - pm_l_cosb_0, pm_b=LS2355_Gal.pm_b - pm_b_0)\n",
    "LS2355_corrected_ICRS = LS2355_corrected.transform_to(ICRS()) \n",
    "LS2355_corrected_ICRS"
   ]
  },
  {
   "cell_type": "code",
   "execution_count": 20,
   "id": "d69b7d73",
   "metadata": {},
   "outputs": [
    {
     "data": {
      "text/latex": [
       "$-49.17587 \\; \\mathrm{{}^{\\circ}}$"
      ],
      "text/plain": [
       "<Quantity -49.17586964 deg>"
      ]
     },
     "execution_count": 20,
     "metadata": {},
     "output_type": "execute_result"
    }
   ],
   "source": [
    "# Calculating angle and velocity:\n",
    "theta = np.arctan(LS2355_corrected_ICRS.pm_ra_cosdec / LS2355_corrected_ICRS.pm_dec)\n",
    "theta.to(u.degree)"
   ]
  },
  {
   "cell_type": "code",
   "execution_count": 21,
   "id": "2213e1e5",
   "metadata": {},
   "outputs": [
    {
     "data": {
      "text/latex": [
       "$8.3432981 \\; \\mathrm{\\frac{km}{s}}$"
      ],
      "text/plain": [
       "<Quantity 8.34329807 km / s>"
      ]
     },
     "execution_count": 21,
     "metadata": {},
     "output_type": "execute_result"
    }
   ],
   "source": [
    "((((LS2355_corrected_ICRS.pm_ra_cosdec / (1.*u.radian)) * D_LS2355)**2 +\n",
    "((LS2355_corrected_ICRS.pm_dec / (1.*u.radian)) * D_LS2355)**2)**0.5).to(u.km/u.second)"
   ]
  },
  {
   "cell_type": "markdown",
   "id": "7e66f6dd-ceb8-4a0e-b89c-0b9a80a413dc",
   "metadata": {},
   "source": [
    "Then, we can perform these steps but repeat them $10^3$ times, varying the proper motions and Oort's constants to estimate the uncertainty on direction and velocity:"
   ]
  },
  {
   "cell_type": "code",
   "execution_count": 23,
   "id": "3e3196de",
   "metadata": {},
   "outputs": [],
   "source": [
    "# Gaia values:\n",
    "pm_ra_cosdec0 = -6.40922*u.mas/u.yr\n",
    "pm_dec0 = 1.678*u.mas/u.yr\n",
    "error = 0.02*u.mas/u.yr\n",
    "\n",
    "# Repeating the steps above 10^3 times:\n",
    "v_sim = []\n",
    "theta_sim = []\n",
    "for i in range(1000):\n",
    "\n",
    "    # Varying the Gaia proper motions within their errors:\n",
    "    pm_ra_cosdec_i = np.random.normal(loc=pm_ra_cosdec0.value, scale=error.value, size=1)[0]*u.mas/u.yr\n",
    "    pm_dec_i = np.random.normal(loc=pm_dec0.value, scale=error.value, size=1)[0]*u.mas/u.yr\n",
    "\n",
    "    # Converting to Galactic coordinates:\n",
    "    LS2355 = ICRS(ra=172.225759*u.degree, dec=-62.652733*u.degree,\n",
    "                       pm_ra_cosdec=pm_ra_cosdec_i, pm_dec=pm_dec_i)\n",
    "    LS2355_Gal = LS2355.transform_to(Galactic()) \n",
    "\n",
    "    # Varying the Oort's constants; assuming sigma = 1 km/s/kpc to estimate the effect. Note that A+B remains constant. \n",
    "    dOort = np.random.normal(loc=0, scale=1, size=1)[0] * u.km/u.s/u.kpc\n",
    "    Ai = 12.5*u.km/u.s/u.kpc + dOort\n",
    "    Bi = -12.5*u.km/u.s/u.kpc - dOort\n",
    "\n",
    "    # Calculating the local correction for these Oort constants:\n",
    "    (pm_l_cosb_0, pm_b_0) = local_motion(l = LS2355_Gal.l.degree*u.degree, b = LS2355_Gal.b.degree*u.degree,\n",
    "                                         D = D_LS2355, A=Ai, B=Bi)\n",
    "\n",
    "    # Correcting the motion and transforming back:\n",
    "    LS2355_corrected = Galactic(l=LS2355_Gal.l.degree*u.degree, b=LS2355_Gal.b.degree*u.degree,\n",
    "                       pm_l_cosb=LS2355_Gal.pm_l_cosb - pm_l_cosb_0, pm_b=LS2355_Gal.pm_b - pm_b_0)\n",
    "    LS2355_corrected_ICRS = LS2355_corrected.transform_to(ICRS()) \n",
    "\n",
    "    # Calculating and saving the angle and velocity:\n",
    "    theta = np.arctan(LS2355_corrected_ICRS.pm_ra_cosdec / LS2355_corrected_ICRS.pm_dec)\n",
    "    theta_sim.append(theta.to(u.degree).value)\n",
    "\n",
    "    v = ((((LS2355_corrected_ICRS.pm_ra_cosdec / (1.*u.radian)) * D_LS2355)**2 +\n",
    "    ((LS2355_corrected_ICRS.pm_dec / (1.*u.radian)) * D_LS2355)**2)**0.5).to(u.km/u.second)\n",
    "    v_sim.append(v.value)"
   ]
  },
  {
   "cell_type": "code",
   "execution_count": 24,
   "id": "a7a6f48d",
   "metadata": {},
   "outputs": [],
   "source": [
    "# Turning velocity and angle into arrays with correct units:\n",
    "v_sim = np.asarray(v_sim) * u.km/u.second\n",
    "theta_sim = np.asarray(theta_sim) * u.degree"
   ]
  },
  {
   "cell_type": "code",
   "execution_count": 27,
   "id": "0ec5e1ce",
   "metadata": {},
   "outputs": [
    {
     "data": {
      "text/plain": [
       "(<Quantity 8.72818663 km / s>, <Quantity 3.14444989 km / s>)"
      ]
     },
     "execution_count": 27,
     "metadata": {},
     "output_type": "execute_result"
    }
   ],
   "source": [
    "# Printing the velocity and error: (note: error given for this assumed uncertainty on A and B)\n",
    "np.mean(v_sim), np.std(v_sim)"
   ]
  },
  {
   "cell_type": "code",
   "execution_count": 28,
   "id": "b232e81e",
   "metadata": {},
   "outputs": [
    {
     "data": {
      "text/plain": [
       "(<Quantity -45.00968367 deg>, <Quantity 16.01226913 deg>)"
      ]
     },
     "execution_count": 28,
     "metadata": {},
     "output_type": "execute_result"
    }
   ],
   "source": [
    "# Printing the angle and error: (note: error given for this assumed uncertainty on A and B)\n",
    "np.mean(theta_sim), np.std(theta_sim)"
   ]
  },
  {
   "cell_type": "markdown",
   "id": "bd2d263a-ad39-485d-b645-8162a0535b3a",
   "metadata": {},
   "source": [
    "### 4) The Gaia-based calculation #2: Updated Oort constants based on Gaia and including radial motion"
   ]
  },
  {
   "cell_type": "markdown",
   "id": "3ff1381c-4c39-4ab8-97a5-ac0dc1b0bc02",
   "metadata": {},
   "source": [
    "Finally, the values used in the remainder of the paper: using updated Oort's constants from  https://ui.adsabs.harvard.edu/abs/2017MNRAS.468L..63B/abstract). We also include radial motion."
   ]
  },
  {
   "cell_type": "code",
   "execution_count": 30,
   "id": "da4342bc",
   "metadata": {},
   "outputs": [
    {
     "data": {
      "text/latex": [
       "$3.9296203 \\; \\mathrm{\\frac{km}{s}}$"
      ],
      "text/plain": [
       "<Quantity 3.92962034 km / s>"
      ]
     },
     "execution_count": 30,
     "metadata": {},
     "output_type": "execute_result"
    }
   ],
   "source": [
    "# Calculating what the radial velocity corresponds to in the ICRS coordinates, for the position considered here:\n",
    "# This calculation corrects from the LSR value, as reported in Sanchez Ayaso et al. (2018) to the Galactic/ICRS value (which are the same): \n",
    "# While we provide all 6 parameters, only the radial velocity and position are relevant here:\n",
    "lsr = LSR(ra=172.225759*u.degree, dec=-62.652733*u.degree,\n",
    "          distance=D_LS2355, \n",
    "          radial_velocity=-3.0*u.km/u.s,\n",
    "          pm_ra_cosdec=-6.40922*u.mas/u.yr, pm_dec=1.678*u.mas/u.yr)\n",
    "v_r = lsr.transform_to(ICRS()).radial_velocity\n",
    "\n",
    "# Showing the corrected radial velocity:\n",
    "v_r"
   ]
  },
  {
   "cell_type": "code",
   "execution_count": 31,
   "id": "83d9e692",
   "metadata": {},
   "outputs": [],
   "source": [
    "# Repeating the earlier calculation; including radial velocity and updated Oort's constants:\n",
    "\n",
    "# Gaia values:\n",
    "pm_ra_cosdec0 = -6.40922*u.mas/u.yr\n",
    "pm_dec0 = 1.678*u.mas/u.yr\n",
    "error = 0.02*u.mas/u.yr\n",
    "\n",
    "# Error on radial velocity:\n",
    "dv_r = 4.5 * u.km/u.second\n",
    "\n",
    "# Repeating the steps above 10^3 times:\n",
    "v_sim = []\n",
    "v0_sim = []\n",
    "theta_sim = []\n",
    "pm_ra_cosdec_sim = []\n",
    "pm_dec_sim = []\n",
    "for i in range(1000):\n",
    "\n",
    "    # Varying the Gaia proper motions within their errors:\n",
    "    pm_ra_cosdec_i = np.random.normal(loc=pm_ra_cosdec0.value, scale=error.value, size=1)[0]*u.mas/u.yr\n",
    "    pm_dec_i = np.random.normal(loc=pm_dec0.value, scale=error.value, size=1)[0]*u.mas/u.yr\n",
    "\n",
    "    # Converting to Galactic coordinates:\n",
    "    LS2355 = ICRS(ra=172.225759*u.degree, dec=-62.652733*u.degree,\n",
    "                       pm_ra_cosdec=pm_ra_cosdec_i, pm_dec=pm_dec_i)\n",
    "    LS2355_Gal = LS2355.transform_to(Galactic()) \n",
    "\n",
    "    # Calculating a random radial velocity from its mean and error:\n",
    "    v_r_i = np.random.normal(loc=v_r.value, scale=dv_r.value, size=1)[0]*u.km/u.second\n",
    "\n",
    "    # Variation of the updated Oort's constants:\n",
    "    dA = np.random.normal(loc=0, scale=0.4, size=1)[0] * u.km/u.s/u.kpc\n",
    "    Ai = 15.3*u.km/u.s/u.kpc + dA\n",
    "    Bi = -11.9*u.km/u.s/u.kpc - dA\n",
    "\n",
    "    # Calculating the local correction for these Oort constants:\n",
    "    (pm_l_cosb_0, pm_b_0) = local_motion(l = LS2355_Gal.l.degree*u.degree, b = LS2355_Gal.b.degree*u.degree,\n",
    "                                         D = D_LS2355, A=Ai, B=Bi)\n",
    "\n",
    "    # Correcting the motion and transforming back:\n",
    "    LS2355_corrected = Galactic(l=LS2355_Gal.l.degree*u.degree, b=LS2355_Gal.b.degree*u.degree,\n",
    "                       pm_l_cosb=LS2355_Gal.pm_l_cosb - pm_l_cosb_0, pm_b=LS2355_Gal.pm_b - pm_b_0)\n",
    "    LS2355_corrected_ICRS = LS2355_corrected.transform_to(ICRS()) \n",
    "\n",
    "    # Saving the updated/corrected proper motions, angles, and velocities.\n",
    "    pm_ra_cosdec_sim.append(LS2355_corrected_ICRS.pm_ra_cosdec.value)\n",
    "    pm_dec_sim.append(LS2355_corrected_ICRS.pm_dec.value)\n",
    "    \n",
    "    theta = np.arctan(LS2355_corrected_ICRS.pm_ra_cosdec / LS2355_corrected_ICRS.pm_dec)\n",
    "    theta_sim.append(theta.to(u.degree).value)\n",
    "\n",
    "    # Note: we calculate v and v0, where for v0, we don't use the variation in v_r, but only in the proper motion in tangetial direction.\n",
    "    v = ((((LS2355_corrected_ICRS.pm_ra_cosdec / (1.*u.radian)) * D_LS2355)**2 +\n",
    "    ((LS2355_corrected_ICRS.pm_dec / (1.*u.radian)) * D_LS2355)**2 + v_r_i**2)**0.5).to(u.km/u.second)\n",
    "    \n",
    "    v0 = ((((LS2355_corrected_ICRS.pm_ra_cosdec / (1.*u.radian)) * D_LS2355)**2 +\n",
    "    ((LS2355_corrected_ICRS.pm_dec / (1.*u.radian)) * D_LS2355)**2 + v_r**2)**0.5).to(u.km/u.second)\n",
    "    \n",
    "    v_sim.append(v.value)\n",
    "    v0_sim.append(v0.value)"
   ]
  },
  {
   "cell_type": "code",
   "execution_count": 37,
   "id": "dbb8d5e2",
   "metadata": {},
   "outputs": [
    {
     "data": {
      "text/plain": [
       "(0.14138846992288567, -0.3423069197866604)"
      ]
     },
     "execution_count": 37,
     "metadata": {},
     "output_type": "execute_result"
    }
   ],
   "source": [
    "# The proper motion in RA:\n",
    "np.std(pm_ra_cosdec_sim), np.mean(pm_ra_cosdec_sim)"
   ]
  },
  {
   "cell_type": "code",
   "execution_count": 38,
   "id": "0a3b5df2",
   "metadata": {},
   "outputs": [
    {
     "data": {
      "text/plain": [
       "(0.44556546555815524, 0.04908364507528602)"
      ]
     },
     "execution_count": 38,
     "metadata": {},
     "output_type": "execute_result"
    }
   ],
   "source": [
    "# The proper motion in declination:\n",
    "np.mean(pm_dec_sim), np.std(pm_dec_sim)"
   ]
  },
  {
   "cell_type": "code",
   "execution_count": 39,
   "id": "a04ae2aa",
   "metadata": {},
   "outputs": [],
   "source": [
    "v_sim = np.asarray(v_sim) * u.km/u.second\n",
    "v0_sim = np.asarray(v0_sim) * u.km/u.second\n",
    "theta_sim = np.asarray(theta_sim) * u.degree"
   ]
  },
  {
   "cell_type": "code",
   "execution_count": 44,
   "id": "f9527a5b",
   "metadata": {},
   "outputs": [
    {
     "data": {
      "text/plain": [
       "(<Quantity 7.1520503 km / s>, <Quantity 2.4516716 km / s>)"
      ]
     },
     "execution_count": 44,
     "metadata": {},
     "output_type": "execute_result"
    }
   ],
   "source": [
    "# Velocity and error: we use the mean of v0_sim as v_sim is heavily skewed. \n",
    "# Note that exact values of v and angle may vary slightly between different executions of the 1000 calculations. \n",
    "# These variations lie within the uncertainty and do not affect the conclusions or inferences of the paper.\n",
    "np.mean(v0_sim), np.std(v_sim)"
   ]
  },
  {
   "cell_type": "code",
   "execution_count": 41,
   "id": "20c4225f",
   "metadata": {},
   "outputs": [
    {
     "data": {
      "text/plain": [
       "(<Quantity -35.60863959 deg>, <Quantity 10.16105355 deg>)"
      ]
     },
     "execution_count": 41,
     "metadata": {},
     "output_type": "execute_result"
    }
   ],
   "source": [
    "# Angle and error:\n",
    "np.mean(theta_sim), np.std(theta_sim)"
   ]
  }
 ],
 "metadata": {
  "kernelspec": {
   "display_name": "Python 3 (ipykernel)",
   "language": "python",
   "name": "python3"
  },
  "language_info": {
   "codemirror_mode": {
    "name": "ipython",
    "version": 3
   },
   "file_extension": ".py",
   "mimetype": "text/x-python",
   "name": "python",
   "nbconvert_exporter": "python",
   "pygments_lexer": "ipython3",
   "version": "3.10.13"
  }
 },
 "nbformat": 4,
 "nbformat_minor": 5
}
