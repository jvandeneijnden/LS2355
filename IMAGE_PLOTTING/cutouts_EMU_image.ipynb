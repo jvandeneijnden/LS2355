{
 "cells": [
  {
   "cell_type": "markdown",
   "id": "e80fbb49-9c1f-42df-8480-0ead69b98aa2",
   "metadata": {},
   "source": [
    "# Notebook #2a: creating the EMU cutout"
   ]
  },
  {
   "cell_type": "markdown",
   "id": "0b06d0e7-d577-4af3-9dac-f76ed6a45d15",
   "metadata": {},
   "source": [
    "This straightforward notebook can be used to re-create the file './FITS_IMAGES/EMU_flattened.fits'."
   ]
  },
  {
   "cell_type": "code",
   "execution_count": 2,
   "id": "9cdcf3b1-0090-4df2-8ac9-2eb79748d86f",
   "metadata": {},
   "outputs": [
    {
     "name": "stderr",
     "output_type": "stream",
     "text": [
      "WARNING: AstropyDeprecationWarning: The update_default_config function is deprecated and may be removed in a future version. [FITS_tools]\n"
     ]
    }
   ],
   "source": [
    "path = '/Library/Fonts/Arial Unicode.ttf'\n",
    "\n",
    "import numpy as np\n",
    "import numpy.ma as ma\n",
    "\n",
    "import aplpy\n",
    "\n",
    "import matplotlib.pyplot as plt\n",
    "import matplotlib as mpl\n",
    "import matplotlib.font_manager as font_manager\n",
    "import matplotlib.gridspec as gridspec\n",
    "from astropy.io import fits\n",
    "from astropy.nddata import Cutout2D\n",
    "from astropy.coordinates import SkyCoord\n",
    "\n",
    "import os\n",
    "from astropy import units as u\n",
    "from astropy.units import cds\n",
    "from matplotlib import colors\n",
    "cds.enable()  \n",
    "\n",
    "# If the font should not be changed, comment out the next two lines:\n",
    "prop = font_manager.FontProperties(fname=path)\n",
    "mpl.rcParams['font.family'] = prop.get_name()\n",
    "mpl.rcParams['pdf.fonttype']=42\n",
    "\n",
    "params = {'text.usetex':False, 'mathtext.fontset':'custom', 'mathtext.default':'regular'}\n",
    "mpl.rcParams.update(params)\n",
    "\n",
    "single_col = 8.9 # cm\n",
    "double_col = 18.3 # cm\n",
    "def cm2inch(value):\n",
    "    return value/2.54\n",
    "FS = 22\n",
    "LS = 22\n",
    "MS = 14\n",
    "MEW= 1.5\n",
    "\n",
    "%matplotlib inline\n",
    "\n",
    "from astropy.io import fits\n",
    "from astropy import wcs\n",
    "import FITS_tools\n",
    "from astropy.wcs import WCS"
   ]
  },
  {
   "cell_type": "markdown",
   "id": "d4a1ada6-a015-4d15-8156-c69a6799ee53",
   "metadata": {},
   "source": [
    "### Create cutouts with updated WCS with the same centroid position"
   ]
  },
  {
   "cell_type": "code",
   "execution_count": 2,
   "id": "bdc11407-8d75-45f1-8f27-2ec593a41bd9",
   "metadata": {},
   "outputs": [],
   "source": [
    "EMU_image = './EMU/EMU_flattened.fits'"
   ]
  },
  {
   "cell_type": "code",
   "execution_count": 3,
   "id": "01eee3ea-8d16-489b-a4b8-1a0efb7b6cd7",
   "metadata": {},
   "outputs": [],
   "source": [
    "centroid_position = SkyCoord('11h28m54.1820612352s -62d39m09.837096588s', frame='icrs')\n",
    "cutout_size = u.Quantity((60., 60.), u.arcmin)"
   ]
  },
  {
   "cell_type": "code",
   "execution_count": 9,
   "id": "647ae4f1-9dc8-4733-8657-7ad35bfc2a63",
   "metadata": {},
   "outputs": [
    {
     "name": "stderr",
     "output_type": "stream",
     "text": [
      "WARNING: FITSFixedWarning: 'datfix' made the change 'Set MJD-OBS to 59940.766138 from DATE-OBS'. [astropy.wcs.wcs]\n",
      "WARNING: FITSFixedWarning: 'obsfix' made the change 'Set OBSGEO-L to   116.658800 from OBSGEO-[XYZ].\n",
      "Set OBSGEO-B to   -26.704100 from OBSGEO-[XYZ].\n",
      "Set OBSGEO-H to      121.995 from OBSGEO-[XYZ]'. [astropy.wcs.wcs]\n"
     ]
    }
   ],
   "source": [
    "# Load the image and the WCS: RACS-LOW (UHF band)\n",
    "filename = EMU_image\n",
    "\n",
    "hdu = fits.open(filename)[0]\n",
    "wcs = WCS(hdu.header)\n",
    "\n",
    "# Make the cutout, including the WCS\n",
    "cutout = Cutout2D(hdu.data, position=centroid_position, size=cutout_size, wcs=wcs)\n",
    "\n",
    "# Put the cutout image in the FITS HDU\n",
    "hdu.data = cutout.data\n",
    "\n",
    "# Update the FITS header with the cutout WCS\n",
    "hdu.header.update(cutout.wcs.to_header())\n",
    "\n",
    "# Write the cutout to a new FITS file\n",
    "cutout_filename = './EMU/EMU_flattened_cropped.fits'\n",
    "hdu.writeto(cutout_filename, overwrite=True)"
   ]
  }
 ],
 "metadata": {
  "kernelspec": {
   "display_name": "Python 3 (ipykernel)",
   "language": "python",
   "name": "python3"
  },
  "language_info": {
   "codemirror_mode": {
    "name": "ipython",
    "version": 3
   },
   "file_extension": ".py",
   "mimetype": "text/x-python",
   "name": "python",
   "nbconvert_exporter": "python",
   "pygments_lexer": "ipython3",
   "version": "3.10.13"
  }
 },
 "nbformat": 4,
 "nbformat_minor": 5
}
