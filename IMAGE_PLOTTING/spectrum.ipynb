{
 "cells": [
  {
   "cell_type": "markdown",
   "id": "3b2b29df-80a2-443a-b10e-2657db5f8709",
   "metadata": {},
   "source": [
    "# Notebook #2b: the spectral maps"
   ]
  },
  {
   "cell_type": "markdown",
   "id": "05b9e3f3-c6d1-41df-b69a-85a80b8f30f4",
   "metadata": {},
   "source": [
    "This notebook creates the spectral maps. \n",
    "\n",
    "We calculate spectral maps and error maps; the latter is calculated with and without the systematic flux density error of 1%. \n",
    "\n",
    "These created .fits fits files are used in the PlottingImages notebook to re-create Figure 4.\n",
    "\n",
    "The average values of the spectral index and its error (with and without the systematic uncertainty) are calculated using CARTA separately. For this, we use the region files contained in the REGIONS folder.\n",
    "\n",
    "We take the following steps:\n",
    "\n",
    "0) Loading packages\n",
    "1) Create cutouts with updated WCS with the same centroid position for RACS mid and low\n",
    "2) Create spectral maps\n",
    "3) Repeat the spectral error maps with a systematic error"
   ]
  },
  {
   "cell_type": "markdown",
   "id": "3220e463-93a8-4b8c-94e5-56533233fe06",
   "metadata": {},
   "source": [
    "### 0) Loading packages:"
   ]
  },
  {
   "cell_type": "code",
   "execution_count": 1,
   "id": "9cdcf3b1-0090-4df2-8ac9-2eb79748d86f",
   "metadata": {},
   "outputs": [
    {
     "name": "stderr",
     "output_type": "stream",
     "text": [
      "WARNING: AstropyDeprecationWarning: The update_default_config function is deprecated and may be removed in a future version. [FITS_tools]\n"
     ]
    }
   ],
   "source": [
    "path = '/Library/Fonts/Arial Unicode.ttf'\n",
    "\n",
    "import numpy as np\n",
    "import numpy.ma as ma\n",
    "\n",
    "import aplpy\n",
    "\n",
    "import matplotlib.pyplot as plt\n",
    "import matplotlib as mpl\n",
    "import matplotlib.font_manager as font_manager\n",
    "import matplotlib.gridspec as gridspec\n",
    "from astropy.io import fits\n",
    "from astropy.nddata import Cutout2D\n",
    "from astropy.coordinates import SkyCoord\n",
    "\n",
    "import os\n",
    "from astropy import units as u\n",
    "from astropy.units import cds\n",
    "from matplotlib import colors\n",
    "cds.enable()  \n",
    "\n",
    "# If the font should not be changed, comment out the next two lines:\n",
    "prop = font_manager.FontProperties(fname=path)\n",
    "mpl.rcParams['font.family'] = prop.get_name()\n",
    "mpl.rcParams['pdf.fonttype']=42\n",
    "\n",
    "params = {'text.usetex':False, 'mathtext.fontset':'custom', 'mathtext.default':'regular'}\n",
    "mpl.rcParams.update(params)\n",
    "\n",
    "single_col = 8.9 # cm\n",
    "double_col = 18.3 # cm\n",
    "def cm2inch(value):\n",
    "    return value/2.54\n",
    "FS = 22\n",
    "LS = 22\n",
    "MS = 14\n",
    "MEW= 1.5\n",
    "\n",
    "%matplotlib inline\n",
    "\n",
    "from astropy.io import fits\n",
    "from astropy import wcs\n",
    "import FITS_tools\n",
    "from astropy.wcs import WCS"
   ]
  },
  {
   "cell_type": "markdown",
   "id": "d4a1ada6-a015-4d15-8156-c69a6799ee53",
   "metadata": {},
   "source": [
    "### 1) Create cutouts with updated WCS with the same centroid position for RACS mid and low:"
   ]
  },
  {
   "cell_type": "code",
   "execution_count": 3,
   "id": "bdc11407-8d75-45f1-8f27-2ec593a41bd9",
   "metadata": {},
   "outputs": [],
   "source": [
    "# The larger images:\n",
    "RACS_MID = './FITS_IMAGES/RACS-MID1_1136-64_25arcsec.DROPDEG.fits'\n",
    "RACS_LOW = './FITS_IMAGES/RACS-DR1_1135-62A.DROPDEG.fits'"
   ]
  },
  {
   "cell_type": "code",
   "execution_count": 4,
   "id": "01eee3ea-8d16-489b-a4b8-1a0efb7b6cd7",
   "metadata": {},
   "outputs": [],
   "source": [
    "# The central position:\n",
    "centroid_position = SkyCoord('11h28m54.1820612352s -62d39m09.837096588s', frame='icrs')\n",
    "cutout_size = u.Quantity((30., 30.), u.arcmin)"
   ]
  },
  {
   "cell_type": "code",
   "execution_count": 5,
   "id": "647ae4f1-9dc8-4733-8657-7ad35bfc2a63",
   "metadata": {},
   "outputs": [
    {
     "name": "stderr",
     "output_type": "stream",
     "text": [
      "WARNING: FITSFixedWarning: 'obsfix' made the change 'Set OBSGEO-L to   116.658800 from OBSGEO-[XYZ].\n",
      "Set OBSGEO-B to   -26.704100 from OBSGEO-[XYZ].\n",
      "Set OBSGEO-H to      121.995 from OBSGEO-[XYZ]'. [astropy.wcs.wcs]\n"
     ]
    }
   ],
   "source": [
    "# Load the image and the WCS: RACS-LOW (UHF band)\n",
    "filename = RACS_LOW\n",
    "\n",
    "hdu = fits.open(filename)[0]\n",
    "wcs = WCS(hdu.header)\n",
    "\n",
    "# Make the cutout, including the WCS\n",
    "cutout = Cutout2D(hdu.data, position=centroid_position, size=cutout_size, wcs=wcs)\n",
    "\n",
    "# Put the cutout image in the FITS HDU\n",
    "hdu.data = cutout.data\n",
    "\n",
    "# Update the FITS header with the cutout WCS\n",
    "hdu.header.update(cutout.wcs.to_header())\n",
    "\n",
    "# Write the cutout to a new FITS file\n",
    "cutout_filename = './FITS_IMAGES/RACS-LOW.cropped.fits'\n",
    "hdu.writeto(cutout_filename, overwrite=True)"
   ]
  },
  {
   "cell_type": "code",
   "execution_count": 6,
   "id": "bee4a753-88f5-4245-84d9-2f57a0382963",
   "metadata": {},
   "outputs": [
    {
     "name": "stderr",
     "output_type": "stream",
     "text": [
      "WARNING: FITSFixedWarning: 'datfix' made the change 'Set MJD-OBS to 59241.054167 from DATE-OBS'. [astropy.wcs.wcs]\n",
      "WARNING: FITSFixedWarning: 'obsfix' made the change 'Set OBSGEO-L to   116.658800 from OBSGEO-[XYZ].\n",
      "Set OBSGEO-B to   -26.704100 from OBSGEO-[XYZ].\n",
      "Set OBSGEO-H to      121.995 from OBSGEO-[XYZ]'. [astropy.wcs.wcs]\n"
     ]
    }
   ],
   "source": [
    "# Load the image and the WCS: RACS-MID (L band)\n",
    "filename = RACS_MID\n",
    "\n",
    "hdu = fits.open(filename)[0]\n",
    "wcs = WCS(hdu.header)\n",
    "\n",
    "# Make the cutout, including the WCS\n",
    "cutout = Cutout2D(hdu.data, position=centroid_position, size=cutout_size, wcs=wcs)\n",
    "\n",
    "# Put the cutout image in the FITS HDU\n",
    "hdu.data = cutout.data\n",
    "\n",
    "# Update the FITS header with the cutout WCS\n",
    "hdu.header.update(cutout.wcs.to_header())\n",
    "\n",
    "# Write the cutout to a new FITS file\n",
    "cutout_filename = './FITS_IMAGES/RACS-MID.cropped.fits'\n",
    "hdu.writeto(cutout_filename, overwrite=True)"
   ]
  },
  {
   "cell_type": "markdown",
   "id": "2b71c2c5-990e-487e-b7d0-1a7744b0ee6f",
   "metadata": {},
   "source": [
    "### 2) Create spectral maps:"
   ]
  },
  {
   "cell_type": "code",
   "execution_count": 7,
   "id": "ab93441e-5304-47d8-8a34-b3bb1ac320e2",
   "metadata": {},
   "outputs": [],
   "source": [
    "# The cropped files:\n",
    "RACS_MID = './FITS_IMAGES/RACS-MID.cropped.fits'\n",
    "RACS_LOW = './FITS_IMAGES/RACS-LOW.cropped.fits'"
   ]
  },
  {
   "cell_type": "code",
   "execution_count": 9,
   "id": "6e52d6a5-b1aa-4f26-9070-fdb2b22090cf",
   "metadata": {},
   "outputs": [
    {
     "name": "stderr",
     "output_type": "stream",
     "text": [
      "WARNING: FITSFixedWarning: 'obsfix' made the change 'Set OBSGEO-L to   116.658800 from OBSGEO-[XYZ].\n",
      "Set OBSGEO-B to   -26.704100 from OBSGEO-[XYZ].\n",
      "Set OBSGEO-H to      121.995 from OBSGEO-[XYZ]'. [astropy.wcs.wcs]\n"
     ]
    }
   ],
   "source": [
    "# Reading in the data: RACS-MID\n",
    "fh = fits.open(RACS_MID)\n",
    "data_MID = fh[0].data.squeeze() # drops the size-1 axes\n",
    "header_MID = fh[0].header\n",
    "mywcs_MID = WCS(header_MID).celestial\n",
    "\n",
    "new_header_MID = FITS_tools.strip_headers.flatten_header(header_MID)\n",
    "new_fh_MID = fits.PrimaryHDU(data=data_MID, header=new_header_MID)\n",
    "\n",
    "fh.close()"
   ]
  },
  {
   "cell_type": "code",
   "execution_count": 10,
   "id": "78b70ba8-c8e0-4f2a-970e-657379e30ba7",
   "metadata": {},
   "outputs": [
    {
     "name": "stderr",
     "output_type": "stream",
     "text": [
      "WARNING: FITSFixedWarning: 'obsfix' made the change 'Set OBSGEO-L to   116.658800 from OBSGEO-[XYZ].\n",
      "Set OBSGEO-B to   -26.704100 from OBSGEO-[XYZ].\n",
      "Set OBSGEO-H to      121.995 from OBSGEO-[XYZ]'. [astropy.wcs.wcs]\n"
     ]
    }
   ],
   "source": [
    "# Reading in the data: RACS-LOW\n",
    "fh = fits.open(RACS_LOW)\n",
    "data_LOW = fh[0].data.squeeze() # drops the size-1 axes\n",
    "header_LOW = fh[0].header\n",
    "mywcs_LOW = WCS(header_LOW).celestial\n",
    "\n",
    "new_header_LOW = FITS_tools.strip_headers.flatten_header(header_LOW)\n",
    "new_fh_LOW = fits.PrimaryHDU(data=data_LOW, header=new_header_LOW)\n",
    "\n",
    "fh.close()"
   ]
  },
  {
   "cell_type": "code",
   "execution_count": 14,
   "id": "686a6dc7",
   "metadata": {},
   "outputs": [],
   "source": [
    "# Defining the frequencies in GHz\n",
    "nu_LOW = 0.8875\n",
    "nu_MID = 1.3675"
   ]
  },
  {
   "cell_type": "code",
   "execution_count": 15,
   "id": "d5340c23",
   "metadata": {},
   "outputs": [],
   "source": [
    "# RMS values in mJy/bm:\n",
    "dflux_LOW = 0.5e-3\n",
    "dflux_MID = 0.3e-3"
   ]
  },
  {
   "cell_type": "code",
   "execution_count": 16,
   "id": "f43f8af7-c0fb-4deb-b021-1a8f4e3fc138",
   "metadata": {},
   "outputs": [],
   "source": [
    "# Calculating the spectral index and uncertainty for each pixel with sufficient flux in both bands:\n",
    "alpha = np.zeros((len(data_LOW), len(data_LOW)), dtype='float32')\n",
    "dalpha = np.zeros((len(data_LOW), len(data_LOW)), dtype='float32')\n",
    "for i in range(len(data_LOW)):\n",
    "    for j in range(len(data_LOW)):\n",
    "        \n",
    "        flux_LOW = data_LOW[i,j]\n",
    "\n",
    "        # Note: this is a correction since the two datasets have the same beam size, but not the same pixel size.\n",
    "        # So the pixel index needs to be re-scaled for the RACS-MID data.\n",
    "        i_MID = int(i * len(data_MID) / len(data_LOW))\n",
    "        j_MID = int(j * len(data_MID) / len(data_LOW))\n",
    "        \n",
    "        flux_MID = data_MID[i_MID, j_MID]\n",
    "\n",
    "        # Flux thresholding:\n",
    "        if flux_LOW > 2.5e-3 and flux_MID > 1e-3:\n",
    "            \n",
    "            alpha_ij = np.log10(flux_LOW / flux_MID) / np.log10(nu_LOW / nu_MID)\n",
    "            dalpha_ij = abs((1. / np.log10(nu_LOW / nu_MID)) * np.sqrt((dflux_LOW/flux_LOW)**2. + (dflux_MID/flux_MID)**2.))\n",
    "            \n",
    "        else:\n",
    "                \n",
    "            alpha_ij = np.NaN\n",
    "            dalpha_ij = np.NaN\n",
    "            \n",
    "        alpha[i,j] = alpha_ij       \n",
    "        dalpha[i,j] = dalpha_ij          "
   ]
  },
  {
   "cell_type": "code",
   "execution_count": 17,
   "id": "47860ab4-b0ab-43ba-9bfc-766eeac071f8",
   "metadata": {},
   "outputs": [
    {
     "name": "stderr",
     "output_type": "stream",
     "text": [
      "WARNING: FITSFixedWarning: 'obsfix' made the change 'Set OBSGEO-L to   116.658800 from OBSGEO-[XYZ].\n",
      "Set OBSGEO-B to   -26.704100 from OBSGEO-[XYZ].\n",
      "Set OBSGEO-H to      121.995 from OBSGEO-[XYZ]'. [astropy.wcs.wcs]\n"
     ]
    }
   ],
   "source": [
    "# Saving alpha using the same header as the RACS data to use the correct coordinates:\n",
    "fh = fits.open(RACS_LOW)\n",
    "data_ALPHA = alpha\n",
    "header_ALPHA = fh[0].header\n",
    "mywcs_ALPHA = WCS(header_ALPHA).celestial\n",
    "\n",
    "new_header_ALPHA = FITS_tools.strip_headers.flatten_header(header_ALPHA)\n",
    "new_fh_ALPHA = fits.PrimaryHDU(data=data_ALPHA, header=new_header_ALPHA)\n",
    "\n",
    "new_fh_ALPHA.writeto('./FITS_IMAGES/alpha.fits', overwrite=True)\n",
    "\n",
    "fh.close()"
   ]
  },
  {
   "cell_type": "code",
   "execution_count": 18,
   "id": "4f258c57-2faa-4749-bfca-f1c6e2af659b",
   "metadata": {},
   "outputs": [
    {
     "name": "stderr",
     "output_type": "stream",
     "text": [
      "WARNING: FITSFixedWarning: 'obsfix' made the change 'Set OBSGEO-L to   116.658800 from OBSGEO-[XYZ].\n",
      "Set OBSGEO-B to   -26.704100 from OBSGEO-[XYZ].\n",
      "Set OBSGEO-H to      121.995 from OBSGEO-[XYZ]'. [astropy.wcs.wcs]\n"
     ]
    }
   ],
   "source": [
    "# Saving alpha error: using the same header as the RACS data to use the correct coordinates:\n",
    "fh = fits.open(RACS_LOW)\n",
    "data_dALPHA = dalpha\n",
    "header_dALPHA = fh[0].header\n",
    "mywcs_dALPHA = WCS(header_dALPHA).celestial\n",
    "\n",
    "new_header_dALPHA = FITS_tools.strip_headers.flatten_header(header_dALPHA)\n",
    "new_fh_dALPHA = fits.PrimaryHDU(data=data_dALPHA, header=new_header_dALPHA)\n",
    "\n",
    "new_fh_dALPHA.writeto('./FITS_IMAGES/dalpha.fits', overwrite=True)\n",
    "\n",
    "fh.close()"
   ]
  },
  {
   "cell_type": "markdown",
   "id": "dd2fa513",
   "metadata": {},
   "source": [
    "### 3) Repeat the spectral error maps with a systematic error:"
   ]
  },
  {
   "cell_type": "code",
   "execution_count": 19,
   "id": "7f5e10b8",
   "metadata": {},
   "outputs": [],
   "source": [
    "# Same as above: now introducing a 1% error in the calculation of the error:\n",
    "\n",
    "alpha = np.zeros((len(data_LOW), len(data_LOW)), dtype='float32')\n",
    "dalpha = np.zeros((len(data_LOW), len(data_LOW)), dtype='float32')\n",
    "for i in range(len(data_LOW)):\n",
    "    for j in range(len(data_LOW)):\n",
    "        \n",
    "        flux_LOW = data_LOW[i,j]\n",
    "\n",
    "        # Note: this is a correction since the two datasets have the same beam size, but not the same pixel size.\n",
    "        # So the pixel index needs to be re-scaled for the RACS-MID data.\n",
    "        i_MID = int(i * len(data_MID) / len(data_LOW))\n",
    "        j_MID = int(j * len(data_MID) / len(data_LOW))\n",
    "        \n",
    "        flux_MID = data_MID[i_MID, j_MID]\n",
    "\n",
    "        # Flux thresholding:\n",
    "        if flux_LOW > 2.5e-3 and flux_MID > 1e-3:\n",
    "\n",
    "            # Adding the systematic uncertainty:\n",
    "            dflux_LOW_ij = (dflux_LOW**2 + 0.01*flux_LOW**2)**0.5\n",
    "            dflux_MID_ij = (dflux_MID**2 + 0.01*flux_MID**2)**0.5\n",
    "            \n",
    "            alpha_ij = np.log10(flux_LOW / flux_MID) / np.log10(nu_LOW / nu_MID)\n",
    "            dalpha_ij = abs((1. / np.log10(nu_LOW / nu_MID)) * np.sqrt((dflux_LOW_ij/flux_LOW)**2. + (dflux_MID_ij/flux_MID)**2.))\n",
    "            \n",
    "        else:\n",
    "                \n",
    "            alpha_ij = np.NaN\n",
    "            dalpha_ij = np.NaN\n",
    "            \n",
    "        alpha[i,j] = alpha_ij       \n",
    "        dalpha[i,j] = dalpha_ij          "
   ]
  },
  {
   "cell_type": "code",
   "execution_count": 20,
   "id": "749b0a36",
   "metadata": {},
   "outputs": [
    {
     "name": "stderr",
     "output_type": "stream",
     "text": [
      "WARNING: FITSFixedWarning: 'obsfix' made the change 'Set OBSGEO-L to   116.658800 from OBSGEO-[XYZ].\n",
      "Set OBSGEO-B to   -26.704100 from OBSGEO-[XYZ].\n",
      "Set OBSGEO-H to      121.995 from OBSGEO-[XYZ]'. [astropy.wcs.wcs]\n"
     ]
    }
   ],
   "source": [
    "# Saving alpha error with systematic uncertainty: using the same header as the RACS data to use the correct coordinates:\n",
    "\n",
    "fh = fits.open(RACS_LOW)\n",
    "data_dALPHA = dalpha\n",
    "header_dALPHA = fh[0].header\n",
    "mywcs_dALPHA = WCS(header_dALPHA).celestial\n",
    "\n",
    "new_header_dALPHA = FITS_tools.strip_headers.flatten_header(header_dALPHA)\n",
    "new_fh_dALPHA = fits.PrimaryHDU(data=data_dALPHA, header=new_header_dALPHA)\n",
    "\n",
    "new_fh_dALPHA.writeto('./FITS_IMAGES/dalpha_with_syst.fits', overwrite=True)\n",
    "\n",
    "fh.close()"
   ]
  }
 ],
 "metadata": {
  "kernelspec": {
   "display_name": "Python 3 (ipykernel)",
   "language": "python",
   "name": "python3"
  },
  "language_info": {
   "codemirror_mode": {
    "name": "ipython",
    "version": 3
   },
   "file_extension": ".py",
   "mimetype": "text/x-python",
   "name": "python",
   "nbconvert_exporter": "python",
   "pygments_lexer": "ipython3",
   "version": "3.10.13"
  }
 },
 "nbformat": 4,
 "nbformat_minor": 5
}
